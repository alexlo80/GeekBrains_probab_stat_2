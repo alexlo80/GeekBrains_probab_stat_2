{
 "cells": [
  {
   "cell_type": "code",
   "execution_count": 11,
   "id": "e48f8f05",
   "metadata": {
    "id": "ROnWnAPgR_5I"
   },
   "outputs": [],
   "source": [
    "from math import factorial\n",
    "import numpy as np"
   ]
  },
  {
   "cell_type": "code",
   "execution_count": 3,
   "id": "d0734579",
   "metadata": {
    "id": "XqmC5AY8I_Ie"
   },
   "outputs": [],
   "source": [
    "def combinations(n, k):\n",
    "    return int(factorial(n) / (factorial(k) * factorial(n - k)))"
   ]
  },
  {
   "cell_type": "markdown",
   "id": "c46b8a7f",
   "metadata": {},
   "source": [
    "#### 1.Вероятность того, что стрелок попадет в мишень, выстрелив один раз, равна 0.8. Стрелок выстрелил 100 раз. Найдите вероятность того, что стрелок попадет в цель ровно 85 раз."
   ]
  },
  {
   "cell_type": "code",
   "execution_count": 9,
   "id": "383be1d5",
   "metadata": {
    "colab": {
     "base_uri": "https://localhost:8080/"
    },
    "id": "9LWKHseJzdqj",
    "outputId": "1bb9cc7d-3cab-449f-e92b-634822535384"
   },
   "outputs": [
    {
     "data": {
      "text/plain": [
       "0.048061793700746355"
      ]
     },
     "execution_count": 9,
     "metadata": {},
     "output_type": "execute_result"
    }
   ],
   "source": [
    "n = 100 # количество наблюдений\n",
    "k = 85 # количество благоприятных исходов\n",
    "p = 0.8 # вероятность случайной величины\n",
    "\n",
    "X = combinations(n, k) * (p ** k) * (1 - p) ** (n - k)\n",
    "X"
   ]
  },
  {
   "cell_type": "markdown",
   "id": "e48d84ab",
   "metadata": {},
   "source": [
    "#### 2.Вероятность того, что лампочка перегорит в течение первого дня эксплуатации, равна 0.0004. В жилом комплексе после ремонта в один день включили 5000 новых лампочек. Какова вероятность, что ни одна из них не перегорит в первый день? "
   ]
  },
  {
   "cell_type": "code",
   "execution_count": 12,
   "id": "84b317df",
   "metadata": {},
   "outputs": [
    {
     "data": {
      "text/plain": [
       "0.1353352832366127"
      ]
     },
     "execution_count": 12,
     "metadata": {},
     "output_type": "execute_result"
    }
   ],
   "source": [
    "n = 5000 # количество наблюдений\n",
    "m = 0 # количество благоприятных исходов\n",
    "p = 0.0004  # вероятность случайной величины\n",
    "\n",
    "lambda_ = n * p\n",
    "\n",
    "(lambda_**m / np.math.factorial(m)) * np.exp(-lambda_)"
   ]
  },
  {
   "cell_type": "markdown",
   "id": "cb6a4a67",
   "metadata": {},
   "source": [
    "Какова вероятность, что перегорят ровно две?"
   ]
  },
  {
   "cell_type": "code",
   "execution_count": 14,
   "id": "9665fd5e",
   "metadata": {},
   "outputs": [
    {
     "data": {
      "text/plain": [
       "0.2706705664732254"
      ]
     },
     "execution_count": 14,
     "metadata": {},
     "output_type": "execute_result"
    }
   ],
   "source": [
    "n = 5000 # количество наблюдений\n",
    "m = 2 # количество благоприятных исходов\n",
    "p = 0.0004  # вероятность случайной величины\n",
    "\n",
    "lambda_ = n * p\n",
    "\n",
    "(lambda_**m / np.math.factorial(m)) * np.exp(-lambda_)"
   ]
  },
  {
   "cell_type": "markdown",
   "id": "c95b2e14",
   "metadata": {},
   "source": [
    "#### 3.Монету подбросили 144 раза. Какова вероятность, что орел выпадет ровно 70 раз?"
   ]
  },
  {
   "cell_type": "code",
   "execution_count": 15,
   "id": "9691eae7",
   "metadata": {},
   "outputs": [
    {
     "data": {
      "text/plain": [
       "0.06281178035144776"
      ]
     },
     "execution_count": 15,
     "metadata": {},
     "output_type": "execute_result"
    }
   ],
   "source": [
    "n = 144 # количество наблюдений\n",
    "k = 70 # количество благоприятных исходов\n",
    "p = 0.5 # вероятность случайной величины\n",
    "\n",
    "X = combinations(n, k) * (p ** k) * (1 - p) ** (n - k)\n",
    "X"
   ]
  },
  {
   "cell_type": "markdown",
   "id": "f183b200",
   "metadata": {},
   "source": [
    "#### 4.В первом ящике находится 10 мячей, из которых 7 - белые. Во втором ящике - 11 мячей, из которых 9 белых. Из каждого ящика вытаскивают случайным образом по два мяча. Какова вероятность того, что все мячи белые?"
   ]
  },
  {
   "cell_type": "code",
   "execution_count": 84,
   "id": "916098f6",
   "metadata": {},
   "outputs": [
    {
     "data": {
      "text/plain": [
       "0.4666666666666667"
      ]
     },
     "execution_count": 84,
     "metadata": {},
     "output_type": "execute_result"
    }
   ],
   "source": [
    "# вероятноять 2 белых в первом ящике\n",
    "p12 = combinations(7,2)/combinations(10, 2)\n",
    "p12"
   ]
  },
  {
   "cell_type": "code",
   "execution_count": 85,
   "id": "57b00d06",
   "metadata": {},
   "outputs": [
    {
     "data": {
      "text/plain": [
       "0.6545454545454545"
      ]
     },
     "execution_count": 85,
     "metadata": {},
     "output_type": "execute_result"
    }
   ],
   "source": [
    "# вероятноять 2 белых во втором ящике\n",
    "p22 = combinations(9,2)/combinations(11, 2)\n",
    "p22"
   ]
  },
  {
   "cell_type": "code",
   "execution_count": 86,
   "id": "f1d83697",
   "metadata": {},
   "outputs": [
    {
     "name": "stdout",
     "output_type": "stream",
     "text": [
      "общая вероятность для 4х белых: 0.3054545454545455\n"
     ]
    }
   ],
   "source": [
    "p = p12*p22\n",
    "print(f'общая вероятность для 4х белых: {p}')"
   ]
  },
  {
   "cell_type": "code",
   "execution_count": null,
   "id": "b66ef410",
   "metadata": {},
   "outputs": [],
   "source": []
  },
  {
   "cell_type": "markdown",
   "id": "51241f35",
   "metadata": {},
   "source": [
    " **Какова вероятность того, что ровно два мяча белые?**"
   ]
  },
  {
   "cell_type": "code",
   "execution_count": 61,
   "id": "2d957478",
   "metadata": {},
   "outputs": [
    {
     "data": {
      "text/plain": [
       "0.4666666666666667"
      ]
     },
     "execution_count": 61,
     "metadata": {},
     "output_type": "execute_result"
    }
   ],
   "source": [
    "# вероятноcть 1 белый в первом ящике\n",
    "p11 = (combinations(7,1)*combinations(3,1))/combinations(10, 2)\n",
    "p11"
   ]
  },
  {
   "cell_type": "code",
   "execution_count": 62,
   "id": "fef66da0",
   "metadata": {},
   "outputs": [
    {
     "data": {
      "text/plain": [
       "0.32727272727272727"
      ]
     },
     "execution_count": 62,
     "metadata": {},
     "output_type": "execute_result"
    }
   ],
   "source": [
    "# вероятноcь 1 белый во втором ящике\n",
    "p21 = (combinations(9,1)*combinations(2,1))/combinations(11, 2)\n",
    "p21"
   ]
  },
  {
   "cell_type": "code",
   "execution_count": 63,
   "id": "05dffce4",
   "metadata": {},
   "outputs": [
    {
     "data": {
      "text/plain": [
       "0.06666666666666667"
      ]
     },
     "execution_count": 63,
     "metadata": {},
     "output_type": "execute_result"
    }
   ],
   "source": [
    "# вероятноcть 0 белых в первом ящике\n",
    "p10 = (combinations(7,0)*combinations(3,2))/combinations(10, 2)\n",
    "p10"
   ]
  },
  {
   "cell_type": "code",
   "execution_count": 65,
   "id": "142face0",
   "metadata": {},
   "outputs": [
    {
     "data": {
      "text/plain": [
       "0.01818181818181818"
      ]
     },
     "execution_count": 65,
     "metadata": {},
     "output_type": "execute_result"
    }
   ],
   "source": [
    "# вероятноcть 0 белый во втором ящике\n",
    "p20 = (combinations(9,0)*combinations(2,2))/combinations(11, 2)\n",
    "p20"
   ]
  },
  {
   "cell_type": "code",
   "execution_count": 72,
   "id": "bb3b4a25",
   "metadata": {},
   "outputs": [
    {
     "data": {
      "text/plain": [
       "0.008484848484848484"
      ]
     },
     "execution_count": 72,
     "metadata": {},
     "output_type": "execute_result"
    }
   ],
   "source": [
    "p1 = p20*p12\n",
    "p1"
   ]
  },
  {
   "cell_type": "code",
   "execution_count": 73,
   "id": "b41a6e98",
   "metadata": {},
   "outputs": [
    {
     "data": {
      "text/plain": [
       "0.04363636363636363"
      ]
     },
     "execution_count": 73,
     "metadata": {},
     "output_type": "execute_result"
    }
   ],
   "source": [
    "p2 = p22*p10\n",
    "p2"
   ]
  },
  {
   "cell_type": "code",
   "execution_count": 74,
   "id": "ac1299cd",
   "metadata": {},
   "outputs": [
    {
     "data": {
      "text/plain": [
       "0.15272727272727274"
      ]
     },
     "execution_count": 74,
     "metadata": {},
     "output_type": "execute_result"
    }
   ],
   "source": [
    "p3 = p21*p11\n",
    "p3"
   ]
  },
  {
   "cell_type": "code",
   "execution_count": 81,
   "id": "306f5f3a",
   "metadata": {},
   "outputs": [
    {
     "name": "stdout",
     "output_type": "stream",
     "text": [
      "общая вероятность для 2х белых: 0.06828282828282828\n"
     ]
    }
   ],
   "source": [
    "p = 1/3*p1+1/3*p2+1/3*p3\n",
    "print(f'общая вероятность для 2х белых: {p}')"
   ]
  },
  {
   "cell_type": "code",
   "execution_count": null,
   "id": "99e15704",
   "metadata": {},
   "outputs": [],
   "source": []
  },
  {
   "cell_type": "markdown",
   "id": "42e76f7e",
   "metadata": {},
   "source": [
    " **Какова вероятность того, что хотя бы один мяч белый?**"
   ]
  },
  {
   "cell_type": "code",
   "execution_count": 82,
   "id": "f60b22f3",
   "metadata": {},
   "outputs": [
    {
     "name": "stdout",
     "output_type": "stream",
     "text": [
      "0.15272727272727274\n",
      "0.3054545454545455\n",
      "общая вероятность для 3х белых: 0.22909090909090912\n"
     ]
    }
   ],
   "source": [
    "# для 3х белых\n",
    "# вероятноcь 1 белый во втором ящике\n",
    "p21 = (combinations(9,1)*combinations(2,1))/combinations(11, 2)\n",
    "# вероятноять 2 белых в первом ящике\n",
    "p12 = combinations(7,2)/combinations(10, 2)\n",
    "\n",
    "# либо\n",
    "\n",
    "# вероятноять 2 белых во втором ящике\n",
    "p22 = combinations(9,2)/combinations(11, 2)\n",
    "# вероятноcть 1 белый в первом ящике\n",
    "p11 = (combinations(7,1)*combinations(3,1))/combinations(10, 2)\n",
    "\n",
    "print(p21*p12)\n",
    "print(p22*p11)\n",
    "print(f'общая вероятность для 3х белых: {1/2*(p21*p12)+1/2*(p22*p11)}')"
   ]
  },
  {
   "cell_type": "code",
   "execution_count": 87,
   "id": "368668f0",
   "metadata": {},
   "outputs": [
    {
     "name": "stdout",
     "output_type": "stream",
     "text": [
      "0.008484848484848484\n",
      "0.021818181818181816\n",
      "общая вероятность для 1го белого: 0.01515151515151515\n"
     ]
    }
   ],
   "source": [
    "# вероятноcть 1 белый в первом ящике\n",
    "p11 = (combinations(7,1)*combinations(3,1))/combinations(10, 2)\n",
    "# вероятноcть 0 белый во втором ящике\n",
    "p20 = (combinations(9,0)*combinations(2,2))/combinations(11, 2)\n",
    "\n",
    "# либо\n",
    "\n",
    "# вероятноcь 1 белый во втором ящике\n",
    "p21 = (combinations(9,1)*combinations(2,1))/combinations(11, 2)\n",
    "# вероятноcть 0 белых в первом ящике\n",
    "p10 = (combinations(7,0)*combinations(3,2))/combinations(10, 2)\n",
    "\n",
    "print(p11*p20)\n",
    "print(p21*p10)\n",
    "print(f'общая вероятность для 1го белого: {1/2*(p11*p20)+1/2*(p21*p10)}')"
   ]
  },
  {
   "cell_type": "code",
   "execution_count": 89,
   "id": "a2605d69",
   "metadata": {},
   "outputs": [
    {
     "data": {
      "text/plain": [
       "0.15449494949494952"
      ]
     },
     "execution_count": 89,
     "metadata": {},
     "output_type": "execute_result"
    }
   ],
   "source": [
    "# общая вероятность не менее одного белого:\n",
    "P = 0.25*0.01515151515151515+0.25*0.22909090909090912+0.25*0.06828282828282828+0.25*0.3054545454545455\n",
    "P"
   ]
  },
  {
   "cell_type": "code",
   "execution_count": null,
   "id": "edaf5198",
   "metadata": {},
   "outputs": [],
   "source": []
  }
 ],
 "metadata": {
  "kernelspec": {
   "display_name": "Python 3",
   "language": "python",
   "name": "python3"
  },
  "language_info": {
   "codemirror_mode": {
    "name": "ipython",
    "version": 3
   },
   "file_extension": ".py",
   "mimetype": "text/x-python",
   "name": "python",
   "nbconvert_exporter": "python",
   "pygments_lexer": "ipython3",
   "version": "3.8.8"
  }
 },
 "nbformat": 4,
 "nbformat_minor": 5
}
