{
 "cells": [
  {
   "cell_type": "markdown",
   "id": "3243bbab",
   "metadata": {},
   "source": [
    "#### 1.Даны значения величины заработной платы заемщиков банка (zp) и значения их поведенческого кредитного скоринга (ks): zp = [35, 45, 190, 200, 40, 70, 54, 150, 120, 110], ks = [401, 574, 874, 919, 459, 739, 653, 902, 746, 832]. Используя математические операции, посчитать коэффициенты линейной регрессии, приняв за X заработную плату (то есть, zp - признак), а за y - значения скорингового балла (то есть, ks - целевая переменная). Произвести расчет как с использованием intercept, так и без."
   ]
  },
  {
   "cell_type": "code",
   "execution_count": 9,
   "id": "6049274b",
   "metadata": {},
   "outputs": [],
   "source": [
    "zp = [35, 45, 190, 200, 40, 70, 54, 150, 120, 110]\n",
    "ks = [401, 574, 874, 919, 459, 739, 653, 902, 746, 832]\n",
    "\n",
    "x = np.array(zp, dtype=np.float64)\n",
    "y = np.array(ks, dtype=np.float64)"
   ]
  },
  {
   "cell_type": "code",
   "execution_count": 10,
   "id": "933c948d",
   "metadata": {},
   "outputs": [
    {
     "data": {
      "text/plain": [
       "2.620538882402765"
      ]
     },
     "execution_count": 10,
     "metadata": {},
     "output_type": "execute_result"
    }
   ],
   "source": [
    "import numpy as np\n",
    "b = (np.mean(x * y) - np.mean(x) * np.mean(y)) / (np.mean(x**2) - np.mean(x) ** 2)\n",
    "b"
   ]
  },
  {
   "cell_type": "code",
   "execution_count": 11,
   "id": "9786eee3",
   "metadata": {},
   "outputs": [
    {
     "data": {
      "text/plain": [
       "444.1773573243596"
      ]
     },
     "execution_count": 11,
     "metadata": {},
     "output_type": "execute_result"
    }
   ],
   "source": [
    "a = np.mean(y) - b * np.mean(x)\n",
    "a"
   ]
  },
  {
   "cell_type": "code",
   "execution_count": 20,
   "id": "26f468c7",
   "metadata": {},
   "outputs": [
    {
     "data": {
      "text/plain": [
       "array([[535.88],\n",
       "       [562.08],\n",
       "       [941.98],\n",
       "       [968.18],\n",
       "       [548.98],\n",
       "       [627.58],\n",
       "       [585.66],\n",
       "       [837.18],\n",
       "       [758.58],\n",
       "       [732.38]])"
      ]
     },
     "execution_count": 20,
     "metadata": {},
     "output_type": "execute_result"
    }
   ],
   "source": [
    "y_hat = 444.18+2.62*x\n",
    "y_hat"
   ]
  },
  {
   "cell_type": "code",
   "execution_count": 21,
   "id": "c6424b7f",
   "metadata": {},
   "outputs": [
    {
     "data": {
      "text/plain": [
       "array([[401.],\n",
       "       [574.],\n",
       "       [874.],\n",
       "       [919.],\n",
       "       [459.],\n",
       "       [739.],\n",
       "       [653.],\n",
       "       [902.],\n",
       "       [746.],\n",
       "       [832.]])"
      ]
     },
     "execution_count": 21,
     "metadata": {},
     "output_type": "execute_result"
    }
   ],
   "source": [
    "y"
   ]
  },
  {
   "cell_type": "markdown",
   "id": "946fe000",
   "metadata": {},
   "source": [
    "без  intercept"
   ]
  },
  {
   "cell_type": "code",
   "execution_count": 16,
   "id": "0115ef36",
   "metadata": {},
   "outputs": [
    {
     "data": {
      "text/plain": [
       "array([[ 35.],\n",
       "       [ 45.],\n",
       "       [190.],\n",
       "       [200.],\n",
       "       [ 40.],\n",
       "       [ 70.],\n",
       "       [ 54.],\n",
       "       [150.],\n",
       "       [120.],\n",
       "       [110.]])"
      ]
     },
     "execution_count": 16,
     "metadata": {},
     "output_type": "execute_result"
    }
   ],
   "source": [
    "x = x.reshape((10,1))\n",
    "x"
   ]
  },
  {
   "cell_type": "code",
   "execution_count": 17,
   "id": "70c1a3aa",
   "metadata": {},
   "outputs": [
    {
     "data": {
      "text/plain": [
       "array([[401.],\n",
       "       [574.],\n",
       "       [874.],\n",
       "       [919.],\n",
       "       [459.],\n",
       "       [739.],\n",
       "       [653.],\n",
       "       [902.],\n",
       "       [746.],\n",
       "       [832.]])"
      ]
     },
     "execution_count": 17,
     "metadata": {},
     "output_type": "execute_result"
    }
   ],
   "source": [
    "y = y.reshape((10,1))\n",
    "y"
   ]
  },
  {
   "cell_type": "code",
   "execution_count": 18,
   "id": "d45454de",
   "metadata": {},
   "outputs": [
    {
     "data": {
      "text/plain": [
       "array([[5.88982042]])"
      ]
     },
     "execution_count": 18,
     "metadata": {},
     "output_type": "execute_result"
    }
   ],
   "source": [
    "b = np.dot(np.linalg.inv(np.dot(x.T,x)),x.T @ y)\n",
    "b"
   ]
  },
  {
   "cell_type": "markdown",
   "id": "9a3d6eed",
   "metadata": {},
   "source": [
    "#### 2.Посчитать коэффициент линейной регрессии при заработной плате (zp), используя градиентный спуск (без intercept)."
   ]
  },
  {
   "cell_type": "code",
   "execution_count": 24,
   "id": "3f17df61",
   "metadata": {},
   "outputs": [],
   "source": [
    "zp = [35, 45, 190, 200, 40, 70, 54, 150, 120, 110]\n",
    "ks = [401, 574, 874, 919, 459, 739, 653, 902, 746, 832]\n",
    "\n",
    "X = np.array(zp, dtype=np.float64)\n",
    "y = np.array(ks, dtype=np.float64)"
   ]
  },
  {
   "cell_type": "code",
   "execution_count": 28,
   "id": "661d87fc",
   "metadata": {},
   "outputs": [],
   "source": [
    "def mse_ (B1,y=y,X=X,n=10):\n",
    "    return np.sum((B1*X-y)**2)/n\n",
    "\n",
    "alpha = 1e-6\n",
    "B1 = 0.1\n",
    "n = 10\n",
    "\n",
    "    "
   ]
  },
  {
   "cell_type": "code",
   "execution_count": 29,
   "id": "cce258cf",
   "metadata": {},
   "outputs": [
    {
     "name": "stdout",
     "output_type": "stream",
     "text": [
      "Iteration: 0, B1= 0.25952808, mse = 493237.7212546963\n",
      "Iteration: 50, B1= 4.497229618367758, mse = 83233.94472982832\n",
      "Iteration: 100, B1= 5.54537842245223, mse = 58151.31823171113\n",
      "Iteration: 150, B1= 5.804626485478126, mse = 56616.849068093856\n",
      "Iteration: 200, B1= 5.868748638669329, mse = 56522.97550129376\n",
      "Iteration: 250, B1= 5.884608547059329, mse = 56517.232638059555\n",
      "Iteration: 300, B1= 5.888531320728348, mse = 56516.88130936019\n",
      "Iteration: 350, B1= 5.889501575592372, mse = 56516.85981627392\n",
      "Iteration: 400, B1= 5.8897415574471985, mse = 56516.85850140053\n",
      "Iteration: 450, B1= 5.889800914315978, mse = 56516.858420961085\n",
      "Iteration: 500, B1= 5.889815595583751, mse = 56516.858416040064\n",
      "Iteration: 550, B1= 5.889819226833643, mse = 56516.858415739014\n",
      "Iteration: 600, B1= 5.889820124983314, mse = 56516.85841572062\n",
      "Iteration: 650, B1= 5.889820347130743, mse = 56516.858415719485\n",
      "Iteration: 700, B1= 5.889820402076462, mse = 56516.85841571941\n",
      "Iteration: 750, B1= 5.889820415666681, mse = 56516.8584157194\n",
      "Iteration: 800, B1= 5.88982041902807, mse = 56516.8584157194\n",
      "Iteration: 850, B1= 5.889820419859474, mse = 56516.8584157194\n",
      "Iteration: 900, B1= 5.889820420065112, mse = 56516.85841571941\n",
      "Iteration: 950, B1= 5.889820420115975, mse = 56516.8584157194\n",
      "Iteration: 1000, B1= 5.8898204201285544, mse = 56516.85841571941\n",
      "Iteration: 1050, B1= 5.889820420131667, mse = 56516.8584157194\n",
      "Iteration: 1100, B1= 5.889820420132437, mse = 56516.85841571943\n",
      "Iteration: 1150, B1= 5.889820420132625, mse = 56516.85841571939\n",
      "Iteration: 1200, B1= 5.889820420132673, mse = 56516.85841571943\n",
      "Iteration: 1250, B1= 5.889820420132673, mse = 56516.85841571943\n",
      "Iteration: 1300, B1= 5.889820420132673, mse = 56516.85841571943\n",
      "Iteration: 1350, B1= 5.889820420132673, mse = 56516.85841571943\n",
      "Iteration: 1400, B1= 5.889820420132673, mse = 56516.85841571943\n",
      "Iteration: 1450, B1= 5.889820420132673, mse = 56516.85841571943\n",
      "Iteration: 1500, B1= 5.889820420132673, mse = 56516.85841571943\n",
      "Iteration: 1550, B1= 5.889820420132673, mse = 56516.85841571943\n",
      "Iteration: 1600, B1= 5.889820420132673, mse = 56516.85841571943\n",
      "Iteration: 1650, B1= 5.889820420132673, mse = 56516.85841571943\n",
      "Iteration: 1700, B1= 5.889820420132673, mse = 56516.85841571943\n",
      "Iteration: 1750, B1= 5.889820420132673, mse = 56516.85841571943\n",
      "Iteration: 1800, B1= 5.889820420132673, mse = 56516.85841571943\n",
      "Iteration: 1850, B1= 5.889820420132673, mse = 56516.85841571943\n",
      "Iteration: 1900, B1= 5.889820420132673, mse = 56516.85841571943\n",
      "Iteration: 1950, B1= 5.889820420132673, mse = 56516.85841571943\n",
      "Iteration: 2000, B1= 5.889820420132673, mse = 56516.85841571943\n",
      "Iteration: 2050, B1= 5.889820420132673, mse = 56516.85841571943\n",
      "Iteration: 2100, B1= 5.889820420132673, mse = 56516.85841571943\n",
      "Iteration: 2150, B1= 5.889820420132673, mse = 56516.85841571943\n",
      "Iteration: 2200, B1= 5.889820420132673, mse = 56516.85841571943\n",
      "Iteration: 2250, B1= 5.889820420132673, mse = 56516.85841571943\n",
      "Iteration: 2300, B1= 5.889820420132673, mse = 56516.85841571943\n",
      "Iteration: 2350, B1= 5.889820420132673, mse = 56516.85841571943\n",
      "Iteration: 2400, B1= 5.889820420132673, mse = 56516.85841571943\n",
      "Iteration: 2450, B1= 5.889820420132673, mse = 56516.85841571943\n",
      "Iteration: 2500, B1= 5.889820420132673, mse = 56516.85841571943\n",
      "Iteration: 2550, B1= 5.889820420132673, mse = 56516.85841571943\n",
      "Iteration: 2600, B1= 5.889820420132673, mse = 56516.85841571943\n",
      "Iteration: 2650, B1= 5.889820420132673, mse = 56516.85841571943\n",
      "Iteration: 2700, B1= 5.889820420132673, mse = 56516.85841571943\n",
      "Iteration: 2750, B1= 5.889820420132673, mse = 56516.85841571943\n",
      "Iteration: 2800, B1= 5.889820420132673, mse = 56516.85841571943\n",
      "Iteration: 2850, B1= 5.889820420132673, mse = 56516.85841571943\n",
      "Iteration: 2900, B1= 5.889820420132673, mse = 56516.85841571943\n",
      "Iteration: 2950, B1= 5.889820420132673, mse = 56516.85841571943\n"
     ]
    }
   ],
   "source": [
    "for i in range(3000):\n",
    "    B1 -= alpha*(2/n)*np.sum((B1*X-y)*X)\n",
    "    if i%50 == 0:\n",
    "        print(f'Iteration: {i}, B1= {B1}, mse = {mse_(B1)}')"
   ]
  },
  {
   "cell_type": "markdown",
   "id": "c43b41d7",
   "metadata": {},
   "source": [
    "#### B1= 5.89"
   ]
  },
  {
   "cell_type": "code",
   "execution_count": 31,
   "id": "ddb468c6",
   "metadata": {},
   "outputs": [
    {
     "data": {
      "text/plain": [
       "array([ 206.15,  265.05, 1119.1 , 1178.  ,  235.6 ,  412.3 ,  318.06,\n",
       "        883.5 ,  706.8 ,  647.9 ])"
      ]
     },
     "execution_count": 31,
     "metadata": {},
     "output_type": "execute_result"
    }
   ],
   "source": [
    "y_hat = 5.89*X\n",
    "y_hat"
   ]
  },
  {
   "cell_type": "code",
   "execution_count": null,
   "id": "ba0f3718",
   "metadata": {},
   "outputs": [],
   "source": []
  }
 ],
 "metadata": {
  "kernelspec": {
   "display_name": "Python 3",
   "language": "python",
   "name": "python3"
  },
  "language_info": {
   "codemirror_mode": {
    "name": "ipython",
    "version": 3
   },
   "file_extension": ".py",
   "mimetype": "text/x-python",
   "name": "python",
   "nbconvert_exporter": "python",
   "pygments_lexer": "ipython3",
   "version": "3.8.8"
  }
 },
 "nbformat": 4,
 "nbformat_minor": 5
}
