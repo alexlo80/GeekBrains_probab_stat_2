{
 "cells": [
  {
   "cell_type": "code",
   "execution_count": 1,
   "id": "2e6613f5",
   "metadata": {
    "id": "iFH05AQwKlNl"
   },
   "outputs": [],
   "source": [
    "from math import factorial"
   ]
  },
  {
   "cell_type": "code",
   "execution_count": 2,
   "id": "1ef11f67",
   "metadata": {
    "id": "XqmC5AY8I_Ie"
   },
   "outputs": [],
   "source": [
    "def combinations(n, k):\n",
    "    return int(factorial(n) / (factorial(k) * factorial(n - k)))"
   ]
  },
  {
   "cell_type": "code",
   "execution_count": 3,
   "id": "61ae6c13",
   "metadata": {
    "id": "aRmxVO1vwvEY"
   },
   "outputs": [],
   "source": [
    "def arrangements(n, k):\n",
    "    return int(factorial(n) / factorial(n - k))"
   ]
  },
  {
   "cell_type": "code",
   "execution_count": 4,
   "id": "9e90a914",
   "metadata": {
    "id": "ktyYJlBLPfP5"
   },
   "outputs": [],
   "source": [
    "def permutations(n):\n",
    "    return int(factorial(n))"
   ]
  },
  {
   "cell_type": "markdown",
   "id": "e229c57d",
   "metadata": {},
   "source": [
    "#### 1.Из колоды в 52 карты извлекаются случайным образом 4 карты. a) Найти вероятность того, что все карты – крести. б) Найти вероятность, что среди 4-х карт окажется хотя бы один туз."
   ]
  },
  {
   "cell_type": "markdown",
   "id": "fe301bb3",
   "metadata": {},
   "source": [
    "сколько всего комбинаций при извлечении 4х карт"
   ]
  },
  {
   "cell_type": "code",
   "execution_count": 5,
   "id": "49e337f7",
   "metadata": {},
   "outputs": [
    {
     "data": {
      "text/plain": [
       "270725"
      ]
     },
     "execution_count": 5,
     "metadata": {},
     "output_type": "execute_result"
    }
   ],
   "source": [
    "combinations(52,4)"
   ]
  },
  {
   "cell_type": "markdown",
   "id": "42a1edfc",
   "metadata": {},
   "source": [
    "сколько возможно кобинаций с картами только крести 13 штук"
   ]
  },
  {
   "cell_type": "code",
   "execution_count": 6,
   "id": "d0eb0764",
   "metadata": {},
   "outputs": [
    {
     "data": {
      "text/plain": [
       "715"
      ]
     },
     "execution_count": 6,
     "metadata": {},
     "output_type": "execute_result"
    }
   ],
   "source": [
    "combinations(13,4)"
   ]
  },
  {
   "cell_type": "code",
   "execution_count": 8,
   "id": "7232e0b3",
   "metadata": {},
   "outputs": [
    {
     "data": {
      "text/plain": [
       "0.0026410564225690276"
      ]
     },
     "execution_count": 8,
     "metadata": {},
     "output_type": "execute_result"
    }
   ],
   "source": [
    "p = combinations(13,4)/combinations(52,4)\n",
    "p"
   ]
  },
  {
   "cell_type": "markdown",
   "id": "2b11ad47",
   "metadata": {},
   "source": [
    "б) Найти вероятность, что среди 4-х карт окажется хотя бы один туз."
   ]
  },
  {
   "cell_type": "markdown",
   "id": "01b03fcb",
   "metadata": {},
   "source": [
    "число исходов благоприятствующих нашему событию – это количество сочетаний 4 карт из 52 с 1м+2мя+3мя+4мя тузами "
   ]
  },
  {
   "cell_type": "code",
   "execution_count": 38,
   "id": "16dc4f25",
   "metadata": {
    "scrolled": true
   },
   "outputs": [
    {
     "data": {
      "text/plain": [
       "76145"
      ]
     },
     "execution_count": 38,
     "metadata": {},
     "output_type": "execute_result"
    }
   ],
   "source": [
    "m = combinations(4,1)*combinations(48,3)+combinations(4,2)*combinations(48,2)+combinations(4,3)*combinations(48,1)+combinations(4,4)\n",
    "m"
   ]
  },
  {
   "cell_type": "markdown",
   "id": "fbd71d65",
   "metadata": {},
   "source": [
    "сколько всего комбинаций при извлечении 4х карт"
   ]
  },
  {
   "cell_type": "code",
   "execution_count": 39,
   "id": "c7114de4",
   "metadata": {},
   "outputs": [
    {
     "data": {
      "text/plain": [
       "270725"
      ]
     },
     "execution_count": 39,
     "metadata": {},
     "output_type": "execute_result"
    }
   ],
   "source": [
    "combinations(52,4)"
   ]
  },
  {
   "cell_type": "code",
   "execution_count": 40,
   "id": "5f4dd584",
   "metadata": {},
   "outputs": [
    {
     "data": {
      "text/plain": [
       "0.2812632745405855"
      ]
     },
     "execution_count": 40,
     "metadata": {},
     "output_type": "execute_result"
    }
   ],
   "source": [
    "p = m/combinations(52,4)\n",
    "p"
   ]
  },
  {
   "cell_type": "markdown",
   "id": "4fc4a779",
   "metadata": {},
   "source": [
    "#### 2.На входной двери подъезда установлен кодовый замок, содержащий десять кнопок с цифрами от 0 до 9. Код содержит три цифры, которые нужно нажать одновременно. Какова вероятность того, что человек, не знающий код, откроет дверь с первой попытки?"
   ]
  },
  {
   "cell_type": "markdown",
   "id": "b83ba54f",
   "metadata": {},
   "source": [
    "количество благоприятных исходов"
   ]
  },
  {
   "cell_type": "code",
   "execution_count": 33,
   "id": "e40a9d5d",
   "metadata": {},
   "outputs": [],
   "source": [
    "m = 1"
   ]
  },
  {
   "cell_type": "markdown",
   "id": "cc3f312f",
   "metadata": {},
   "source": [
    "делим на количество комбинаций из 3х цифр"
   ]
  },
  {
   "cell_type": "code",
   "execution_count": 34,
   "id": "809089b7",
   "metadata": {},
   "outputs": [
    {
     "data": {
      "text/plain": [
       "0.008333333333333333"
      ]
     },
     "execution_count": 34,
     "metadata": {},
     "output_type": "execute_result"
    }
   ],
   "source": [
    "p = m/combinations(10,3)\n",
    "p"
   ]
  },
  {
   "cell_type": "markdown",
   "id": "298e1406",
   "metadata": {},
   "source": [
    "#### 3.В ящике имеется 15 деталей, из которых 9 окрашены. Рабочий случайным образом извлекает 3 детали. Какова вероятность того, что все извлеченные детали окрашены?"
   ]
  },
  {
   "cell_type": "code",
   "execution_count": 35,
   "id": "37f290f1",
   "metadata": {},
   "outputs": [
    {
     "data": {
      "text/plain": [
       "0.18461538461538463"
      ]
     },
     "execution_count": 35,
     "metadata": {},
     "output_type": "execute_result"
    }
   ],
   "source": [
    "p = combinations(9,3)/combinations(15,3)\n",
    "p"
   ]
  },
  {
   "cell_type": "markdown",
   "id": "dca08246",
   "metadata": {},
   "source": [
    "#### 4.В лотерее 100 билетов. Из них 2 выигрышных. Какова вероятность того, что 2 приобретенных билета окажутся выигрышными?"
   ]
  },
  {
   "cell_type": "code",
   "execution_count": 37,
   "id": "12a0e5a8",
   "metadata": {},
   "outputs": [
    {
     "data": {
      "text/plain": [
       "0.00020202020202020202"
      ]
     },
     "execution_count": 37,
     "metadata": {},
     "output_type": "execute_result"
    }
   ],
   "source": [
    "p = 1/combinations(100,2)\n",
    "p"
   ]
  },
  {
   "cell_type": "code",
   "execution_count": null,
   "id": "356728d4",
   "metadata": {},
   "outputs": [],
   "source": []
  }
 ],
 "metadata": {
  "kernelspec": {
   "display_name": "Python 3",
   "language": "python",
   "name": "python3"
  },
  "language_info": {
   "codemirror_mode": {
    "name": "ipython",
    "version": 3
   },
   "file_extension": ".py",
   "mimetype": "text/x-python",
   "name": "python",
   "nbconvert_exporter": "python",
   "pygments_lexer": "ipython3",
   "version": "3.8.8"
  }
 },
 "nbformat": 4,
 "nbformat_minor": 5
}
