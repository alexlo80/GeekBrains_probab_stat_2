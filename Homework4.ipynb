{
 "cells": [
  {
   "cell_type": "markdown",
   "id": "0453d56f",
   "metadata": {},
   "source": [
    "#### 1.Случайная непрерывная величина A имеет равномерное распределение на промежутке (200, 800].\n",
    "Найдите ее среднее значение и дисперсию."
   ]
  },
  {
   "cell_type": "code",
   "execution_count": 5,
   "id": "f8d94b37",
   "metadata": {},
   "outputs": [
    {
     "name": "stdout",
     "output_type": "stream",
     "text": [
      "500.0 30000.0\n"
     ]
    }
   ],
   "source": [
    "a = 200\n",
    "b = 800\n",
    "\n",
    "M = (a+b)/2\n",
    "D = (b-a)**2/12\n",
    "\n",
    "print(M,D)"
   ]
  },
  {
   "cell_type": "markdown",
   "id": "a20f561f",
   "metadata": {},
   "source": [
    "#### 2. О случайной непрерывной равномерно распределенной величине B известно, что ее дисперсия равна 0.2.\n",
    "Можно ли найти правую границу величины B и ее среднее значение зная, что левая граница равна 0.5?\n",
    "Если да, найдите ее."
   ]
  },
  {
   "cell_type": "code",
   "execution_count": 10,
   "id": "e4e6ea3d",
   "metadata": {},
   "outputs": [
    {
     "name": "stdout",
     "output_type": "stream",
     "text": [
      "2.049193338482967 1.2745966692414834\n"
     ]
    }
   ],
   "source": [
    "a = 0.5\n",
    "D = 0.2\n",
    "\n",
    "# 0.2 = (b-0.5)**2/12\n",
    "# b-0.5 = (0.2*12)**0.5\n",
    "b = (0.2*12)**0.5 +0.5\n",
    "b\n",
    "\n",
    "M = (a+b)/2\n",
    "\n",
    "print(b,M)"
   ]
  },
  {
   "cell_type": "markdown",
   "id": "22681a3e",
   "metadata": {},
   "source": [
    "#### 3.Непрерывная случайная величина X распределена нормально и задана плотностью распределения\n",
    "f(x) = (1 / (4 * sqrt(2*pi))) * (exp(-((x+2)**2) / 32))\n",
    "Найдите:\n",
    "а). M(X)\n",
    "б). D(X)\n",
    "в). std(X) (среднее квадратичное отклонение)"
   ]
  },
  {
   "cell_type": "code",
   "execution_count": 11,
   "id": "8f00f754",
   "metadata": {},
   "outputs": [],
   "source": [
    "M = -2\n",
    "D = 4**2\n",
    "std = 4"
   ]
  },
  {
   "cell_type": "markdown",
   "id": "ff527e3d",
   "metadata": {},
   "source": [
    "#### 4. Рост взрослого населения города X имеет нормальное распределение.\n",
    "Причем, средний рост равен 174 см, а среднее квадратичное отклонение равно 8 см.\n",
    "Какова вероятность того, что случайным образом выбранный взрослый человек имеет рост:\n",
    "а). больше 182 см\n",
    "б). больше 190 см\n",
    "в). от 166 см до 190 см\n",
    "г). от 166 см до 182 см\n",
    "д). от 158 см до 190 см\n",
    "е). не выше 150 см или не ниже 190 см\n",
    "ё). не выше 150 см или не ниже 198 см\n",
    "ж). ниже 166 см."
   ]
  },
  {
   "cell_type": "code",
   "execution_count": 28,
   "id": "6c250fa0",
   "metadata": {},
   "outputs": [
    {
     "data": {
      "text/plain": [
       "0.15865525393145707"
      ]
     },
     "execution_count": 28,
     "metadata": {},
     "output_type": "execute_result"
    }
   ],
   "source": [
    "M = 174\n",
    "std = 8\n",
    "\n",
    "\n",
    "#  а). больше 182 см \n",
    "Z = (182-174)/8\n",
    "import scipy.stats as st\n",
    "probability_of_point = (1 - st.norm.cdf(Z))\n",
    "p182 = probability_of_point\n",
    "p182"
   ]
  },
  {
   "cell_type": "code",
   "execution_count": 29,
   "id": "19b60982",
   "metadata": {},
   "outputs": [
    {
     "data": {
      "text/plain": [
       "0.02275013194817921"
      ]
     },
     "execution_count": 29,
     "metadata": {},
     "output_type": "execute_result"
    }
   ],
   "source": [
    "#  больше 190 см\n",
    "b = 190\n",
    "\n",
    "Z = (b-M)/8\n",
    "probability_of_point = (1 - st.norm.cdf(Z))\n",
    "p190 = probability_of_point \n",
    "p190"
   ]
  },
  {
   "cell_type": "code",
   "execution_count": 27,
   "id": "fe3503b0",
   "metadata": {},
   "outputs": [
    {
     "data": {
      "text/plain": [
       "0.8185946141203637"
      ]
     },
     "execution_count": 27,
     "metadata": {},
     "output_type": "execute_result"
    }
   ],
   "source": [
    "# в). от 166 см до 190 см \n",
    "b1 = 166\n",
    "b2 = 190\n",
    "\n",
    "Z = (b1-M)/8\n",
    "probability_of_point = (st.norm.cdf(Z))\n",
    "probability_of_point\n",
    "p = 1 -probability_of_point - p190\n",
    "p"
   ]
  },
  {
   "cell_type": "code",
   "execution_count": 30,
   "id": "e219f7d1",
   "metadata": {},
   "outputs": [
    {
     "data": {
      "text/plain": [
       "0.6826894921370859"
      ]
     },
     "execution_count": 30,
     "metadata": {},
     "output_type": "execute_result"
    }
   ],
   "source": [
    "# г). от 166 см до 182 см\n",
    "\n",
    "b1 = 166\n",
    "\n",
    "Z = (b1-M)/8\n",
    "probability_of_point = (st.norm.cdf(Z))\n",
    "probability_of_point\n",
    "p = 1 -probability_of_point - p182\n",
    "p"
   ]
  },
  {
   "cell_type": "code",
   "execution_count": 31,
   "id": "b6887c83",
   "metadata": {},
   "outputs": [
    {
     "data": {
      "text/plain": [
       "0.9544997361036416"
      ]
     },
     "execution_count": 31,
     "metadata": {},
     "output_type": "execute_result"
    }
   ],
   "source": [
    "# д). от 158 см до 190 см \n",
    "b1 = 158\n",
    "\n",
    "Z = (b1-M)/8\n",
    "probability_of_point = (st.norm.cdf(Z))\n",
    "probability_of_point\n",
    "p = 1 -probability_of_point - p190\n",
    "p"
   ]
  },
  {
   "cell_type": "code",
   "execution_count": 33,
   "id": "8f1bc8e1",
   "metadata": {},
   "outputs": [
    {
     "data": {
      "text/plain": [
       "0.0241000299798093"
      ]
     },
     "execution_count": 33,
     "metadata": {},
     "output_type": "execute_result"
    }
   ],
   "source": [
    "#  е). не выше 150 см или не ниже 190 см \n",
    "b1 = 150\n",
    "\n",
    "Z = (b1-M)/8\n",
    "probability_of_point = (st.norm.cdf(Z))\n",
    "probability_of_point\n",
    "p = probability_of_point + p190\n",
    "p"
   ]
  },
  {
   "cell_type": "code",
   "execution_count": 34,
   "id": "875b16d7",
   "metadata": {},
   "outputs": [
    {
     "data": {
      "text/plain": [
       "0.0026997960632601965"
      ]
     },
     "execution_count": 34,
     "metadata": {},
     "output_type": "execute_result"
    }
   ],
   "source": [
    "# ё). не выше 150 см или не ниже 198 см \n",
    "b1 = 150\n",
    "\n",
    "Z = (b1-M)/8\n",
    "probability_of_point = (st.norm.cdf(Z))\n",
    "probability_of_point\n",
    "p = probability_of_point + (1 - st.norm.cdf((198-M)/8))\n",
    "p\n"
   ]
  },
  {
   "cell_type": "code",
   "execution_count": 35,
   "id": "772dcb4d",
   "metadata": {},
   "outputs": [
    {
     "data": {
      "text/plain": [
       "0.15865525393145707"
      ]
     },
     "execution_count": 35,
     "metadata": {},
     "output_type": "execute_result"
    }
   ],
   "source": [
    "# ж). ниже 166 см.\n",
    "b1 = 166\n",
    "\n",
    "Z = (b1-M)/8\n",
    "probability_of_point = (st.norm.cdf(Z))\n",
    "probability_of_point"
   ]
  },
  {
   "cell_type": "markdown",
   "id": "35712969",
   "metadata": {},
   "source": [
    "#### 5.На сколько сигм (средних квадратичных отклонений) отклоняется рост человека, равный 190 см, от\n",
    "математического ожидания роста в популяции, в которой M(X) = 178 см и D(X) = 25 кв.см?"
   ]
  },
  {
   "cell_type": "code",
   "execution_count": 37,
   "id": "68ad49b0",
   "metadata": {},
   "outputs": [
    {
     "data": {
      "text/plain": [
       "2.4"
      ]
     },
     "execution_count": 37,
     "metadata": {},
     "output_type": "execute_result"
    }
   ],
   "source": [
    "b = 190\n",
    "M = 178\n",
    "\n",
    "Z = (b-M)/5\n",
    "Z"
   ]
  },
  {
   "cell_type": "code",
   "execution_count": null,
   "id": "d61aa442",
   "metadata": {},
   "outputs": [],
   "source": []
  }
 ],
 "metadata": {
  "kernelspec": {
   "display_name": "Python 3",
   "language": "python",
   "name": "python3"
  },
  "language_info": {
   "codemirror_mode": {
    "name": "ipython",
    "version": 3
   },
   "file_extension": ".py",
   "mimetype": "text/x-python",
   "name": "python",
   "nbconvert_exporter": "python",
   "pygments_lexer": "ipython3",
   "version": "3.8.8"
  }
 },
 "nbformat": 4,
 "nbformat_minor": 5
}
