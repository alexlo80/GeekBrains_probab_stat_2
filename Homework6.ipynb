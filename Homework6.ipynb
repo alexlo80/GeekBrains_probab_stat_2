{
 "cells": [
  {
   "cell_type": "markdown",
   "id": "625b5d73",
   "metadata": {},
   "source": [
    "#### 1.Даны значения величины заработной платы заемщиков банка (zp) и значения их поведенческого кредитного скоринга (ks):\n",
    "zp = [35, 45, 190, 200, 40, 70, 54, 150, 120, 110],\n",
    "ks = [401, 574, 874, 919, 459, 739, 653, 902, 746, 832].\n",
    "Найдите ковариацию этих двух величин с помощью элементарных действий, а затем с помощью функции cov из numpy\n",
    "Полученные значения должны быть равны.\n",
    "Найдите коэффициент корреляции Пирсона с помощью ковариации и среднеквадратичных отклонений двух признаков,\n",
    "а затем с использованием функций из библиотек numpy и pandas."
   ]
  },
  {
   "cell_type": "code",
   "execution_count": 3,
   "id": "33bf329f",
   "metadata": {},
   "outputs": [
    {
     "data": {
      "text/plain": [
       "9157.839999999997"
      ]
     },
     "execution_count": 3,
     "metadata": {},
     "output_type": "execute_result"
    }
   ],
   "source": [
    "zp = [35,45,190,200,40,70,54,150,120,110]\n",
    "ks = [401,574,874,919,459,739,653,902,746,832]\n",
    "\n",
    "cov_zp_ks = 0\n",
    "cov_zp = 0\n",
    "cov_ks = 0\n",
    "\n",
    "for i in range(len(zp)):\n",
    "    cov_zp_ks+=zp[i]*ks[i]\n",
    "    cov_zp+=zp[i]\n",
    "    cov_ks+=ks[i]\n",
    "mean_zp_ks = cov_zp_ks/len(zp)\n",
    "mean_zp = cov_zp/len(zp)\n",
    "mean_ks = cov_ks/len(ks)\n",
    "\n",
    "cov = mean_zp_ks-(mean_zp*mean_ks)\n",
    "cov"
   ]
  },
  {
   "cell_type": "code",
   "execution_count": 6,
   "id": "6608c0e3",
   "metadata": {},
   "outputs": [
    {
     "data": {
      "text/plain": [
       "array([[ 3494.64,  9157.84],\n",
       "       [ 9157.84, 30468.89]])"
      ]
     },
     "execution_count": 6,
     "metadata": {},
     "output_type": "execute_result"
    }
   ],
   "source": [
    "import numpy as np\n",
    "# cov = np.mean(zp*ks)-np.mean(zp)*np.mean(ks)\n",
    "# cov\n",
    "np.cov(zp,ks,ddof=0)"
   ]
  },
  {
   "cell_type": "code",
   "execution_count": 17,
   "id": "312e3866",
   "metadata": {},
   "outputs": [],
   "source": [
    "std_zp=np.std(zp,ddof=0)\n",
    "std_ks=np.std(ks,ddof=0)"
   ]
  },
  {
   "cell_type": "code",
   "execution_count": 18,
   "id": "e50ec986",
   "metadata": {},
   "outputs": [
    {
     "data": {
      "text/plain": [
       "0.8874900920739158"
      ]
     },
     "execution_count": 18,
     "metadata": {},
     "output_type": "execute_result"
    }
   ],
   "source": [
    "cov/(std_zp*std_ks)"
   ]
  },
  {
   "cell_type": "code",
   "execution_count": 16,
   "id": "6028b652",
   "metadata": {},
   "outputs": [
    {
     "data": {
      "text/plain": [
       "(0.8874900920739164, 0.0006107546587257491)"
      ]
     },
     "execution_count": 16,
     "metadata": {},
     "output_type": "execute_result"
    }
   ],
   "source": [
    "from scipy import stats\n",
    "scipy.stats.pearsonr(zp,ks)"
   ]
  },
  {
   "cell_type": "markdown",
   "id": "a826c5d6",
   "metadata": {},
   "source": [
    "#### 2.Измерены значения IQ выборки студентов,\n",
    "обучающихся в местных технических вузах:\n",
    "131, 125, 115, 122, 131, 115, 107, 99, 125, 111.\n",
    "Известно, что в генеральной совокупности IQ распределен нормально.\n",
    "Найдите доверительный интервал для математического ожидания с надежностью 0.95."
   ]
  },
  {
   "cell_type": "code",
   "execution_count": 19,
   "id": "205abba5",
   "metadata": {},
   "outputs": [
    {
     "name": "stdout",
     "output_type": "stream",
     "text": [
      "(111.9, 124.3)\n"
     ]
    }
   ],
   "source": [
    "IQ = [131, 125, 115, 122, 131, 115, 107, 99, 125, 111]\n",
    "\n",
    "import math\n",
    "from scipy import stats\n",
    "\n",
    "def confidence_interval(sd, X, N, target_interval):\n",
    "    alpha = 1 - target_interval\n",
    "    z = abs(stats.norm.ppf(alpha/2))\n",
    "    se = sd / math.sqrt(N)\n",
    "    return (round(X - z * se,  2),  round(X + z * se,  2))\n",
    "\n",
    "print(confidence_interval(np.std(IQ), np.mean(IQ), len(IQ), 0.95))"
   ]
  },
  {
   "cell_type": "markdown",
   "id": "dcb194cc",
   "metadata": {},
   "source": [
    " #### 3.Известно, что рост футболистов в сборной распределен нормально\n",
    "с дисперсией генеральной совокупности, равной 25 кв.см. Объем выборки равен 27,\n",
    "среднее выборочное составляет 174.2. Найдите доверительный интервал для математического ожидания с надежностью 0.95."
   ]
  },
  {
   "cell_type": "code",
   "execution_count": 20,
   "id": "d7fa451d",
   "metadata": {},
   "outputs": [
    {
     "name": "stdout",
     "output_type": "stream",
     "text": [
      "(172.31, 176.09)\n"
     ]
    }
   ],
   "source": [
    "import math\n",
    "from scipy import stats\n",
    "\n",
    "def confidence_interval(sd, X, N, target_interval):\n",
    "    alpha = 1 - target_interval\n",
    "    z = abs(stats.norm.ppf(alpha/2))\n",
    "    se = sd / math.sqrt(N)\n",
    "    return (round(X - z * se,  2),  round(X + z * se,  2))\n",
    "\n",
    "print(confidence_interval(math.sqrt(25),174.2,27, 0.95))"
   ]
  },
  {
   "cell_type": "code",
   "execution_count": null,
   "id": "f3b2ab7a",
   "metadata": {},
   "outputs": [],
   "source": []
  }
 ],
 "metadata": {
  "kernelspec": {
   "display_name": "Python 3",
   "language": "python",
   "name": "python3"
  },
  "language_info": {
   "codemirror_mode": {
    "name": "ipython",
    "version": 3
   },
   "file_extension": ".py",
   "mimetype": "text/x-python",
   "name": "python",
   "nbconvert_exporter": "python",
   "pygments_lexer": "ipython3",
   "version": "3.8.8"
  }
 },
 "nbformat": 4,
 "nbformat_minor": 5
}
