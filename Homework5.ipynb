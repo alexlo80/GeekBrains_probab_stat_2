{
 "cells": [
  {
   "cell_type": "markdown",
   "id": "a8039c8f",
   "metadata": {},
   "source": [
    "#### 1.1) Известно, что генеральная совокупность распределена нормально \u000b",
    "со средним квадратическим отклонением, равным 16.\u000b",
    "Найти доверительный интервал для оценки математического ожидания с надежностью 0.95,\u000b",
    "если выборочная средняя M = 80, а объем выборки n = 256."
   ]
  },
  {
   "cell_type": "code",
   "execution_count": 1,
   "id": "9723a8b9",
   "metadata": {},
   "outputs": [
    {
     "name": "stdout",
     "output_type": "stream",
     "text": [
      "(78.04, 81.96)\n"
     ]
    }
   ],
   "source": [
    "import math\n",
    "from scipy import stats\n",
    "\n",
    "def confidence_interval(sd, X, N, target_interval):\n",
    "    alpha = 1 - target_interval\n",
    "    z = abs(stats.norm.ppf(alpha/2))\n",
    "    se = sd / math.sqrt(N)\n",
    "    return (round(X - z * se,  2),  round(X + z * se,  2))\n",
    "\n",
    "print(confidence_interval(16, 80, 256, 0.95))"
   ]
  },
  {
   "cell_type": "markdown",
   "id": "c23d42ed",
   "metadata": {},
   "source": [
    "#### 2) В результате 10 независимых измерений некоторой величины X, выполненных с одинаковой точностью,\u000b",
    "получены опытные данные:\u000b",
    "6.9, 6.1, 6.2, 6.8, 7.5, 6.3, 6.4, 6.9, 6.7, 6.1\u000b",
    "Предполагая, что результаты измерений подчинены нормальному закону распределения вероятностей,\u000b",
    "оценить истинное значение величины X при помощи доверительного интервала, покрывающего это\u000b",
    "значение с доверительной вероятностью 0,95."
   ]
  },
  {
   "cell_type": "code",
   "execution_count": 5,
   "id": "0472b867",
   "metadata": {},
   "outputs": [],
   "source": [
    "a = [6.9, 6.1, 6.2, 6.8, 7.5, 6.3, 6.4, 6.9, 6.7, 6.1]\n",
    "n = len(a)\n",
    "\n",
    "import statistics\n",
    "X = statistics.mean(a)\n",
    "\n",
    "import numpy as np\n",
    "std = np.std(a, ddof=1)"
   ]
  },
  {
   "cell_type": "code",
   "execution_count": 9,
   "id": "9b214f9e",
   "metadata": {},
   "outputs": [
    {
     "name": "stdout",
     "output_type": "stream",
     "text": [
      "(6.31, 6.87)\n"
     ]
    }
   ],
   "source": [
    "import math\n",
    "from scipy import stats\n",
    "\n",
    "def confidence_interval(sd, X, N, target_interval):\n",
    "    alpha = 1 - target_interval\n",
    "    z = abs(stats.norm.ppf(alpha/2))\n",
    "    se = sd / math.sqrt(N)\n",
    "    return (round(X - z * se,  2),  round(X + z * se,  2))\n",
    "\n",
    "print(confidence_interval(std, X, n, 0.95))"
   ]
  },
  {
   "cell_type": "markdown",
   "id": "76502cce",
   "metadata": {},
   "source": [
    "#### 3) Утверждается, что шарики для подшипников, изготовленные автоматическим станком, имеют средний диаметр 17 мм.\u000b",
    "Используя односторонний критерий с α=0,05, проверить эту гипотезу, если в выборке из n=100 шариков средний диаметр\u000b",
    "оказался равным 17.5 мм, а дисперсия известна и равна 4 кв.мм."
   ]
  },
  {
   "cell_type": "code",
   "execution_count": 10,
   "id": "a39f1143",
   "metadata": {},
   "outputs": [
    {
     "name": "stdout",
     "output_type": "stream",
     "text": [
      "0.006209665325776159\n"
     ]
    }
   ],
   "source": [
    "from scipy import stats\n",
    "import numpy as np\n",
    "\n",
    "def p_value(z_stat, alternative = 'two-sided'):\n",
    "   \n",
    "    if alternative == 'two-sided':\n",
    "        return 2 * (1 - stats.norm.cdf(np.abs(z_stat)))\n",
    "   \n",
    "    if alternative == 'less':\n",
    "        return stats.norm.cdf(z_stat)\n",
    "\n",
    "    if alternative == 'greater':\n",
    "        return 1 - stats.norm.cdf(z_stat)\n",
    "\n",
    "x = 17\n",
    "x_new = 17.5\n",
    "sd = 2\n",
    "n = 100\n",
    "\n",
    "se = sd / n ** 0.5\n",
    "z = (x_new - x) / se\n",
    "\n",
    "print(p_value(z, alternative='greater'))"
   ]
  },
  {
   "cell_type": "code",
   "execution_count": 11,
   "id": "e4f0b5f1",
   "metadata": {},
   "outputs": [],
   "source": [
    "# так как p-value < 0.05 нет оснований принимать нулевую гипотезу. "
   ]
  },
  {
   "cell_type": "markdown",
   "id": "094ed5d9",
   "metadata": {},
   "source": [
    "#### 4) Продавец утверждает, что средний вес пачки печенья составляет 200 г. Из партии извлечена выборка из 10 пачек.\n",
    "Вес каждой пачки составляет:\n",
    "202, 203, 199, 197, 195, 201, 200, 204, 194, 190. Известно,\n",
    "что их веса распределены нормально.\n",
    "Верно ли утверждение продавца, если учитывать, что доверительная вероятность равна 99%?"
   ]
  },
  {
   "cell_type": "code",
   "execution_count": 26,
   "id": "5178f2ef",
   "metadata": {},
   "outputs": [
    {
     "name": "stdout",
     "output_type": "stream",
     "text": [
      "t-value: 3.2498355440153697\n",
      "p-value for the 99 % confidence interval: 0.012885834831949272\n",
      "\n",
      "rejecting the null hypothesis\n"
     ]
    }
   ],
   "source": [
    "a = [202, 203, 199, 197, 195, 201, 200, 204, 194, 190]\n",
    "n = len(a)\n",
    "x = 200\n",
    "\n",
    "import statistics\n",
    "mean = statistics.mean(a)\n",
    "\n",
    "from scipy import stats\n",
    "from math import sqrt\n",
    "import numpy as np\n",
    "\n",
    "sd = np.std(a, ddof=1)\n",
    "\n",
    "# степень свободы\n",
    "df = n - 1\n",
    "\n",
    "# 99% доверительный интервал\n",
    "p = 0.99\n",
    "alpha = 1-p\n",
    "\n",
    "# стандартная ошибка\n",
    "se = sd/sqrt(n)\n",
    "\n",
    "# ppf - Percent point function\n",
    "# делим на два, так как по умолчанию функция считает для одного конца, а нам надо для двух\n",
    "t_value = stats.t(df).ppf(1-(alpha/2))\n",
    "t_value\n",
    "\n",
    "import scipy.stats as st\n",
    "\n",
    "p_value = np.abs(st.t.ppf((1 - alpha) / 2, df))\n",
    "\n",
    "print(f\"\"\"t-value: {t_value}\n",
    "p-value for the 99 % confidence interval: {p_value}\n",
    "\"\"\")\n",
    "if t_value > p_value: \n",
    "    print(\"rejecting the null hypothesis\")\n",
    "elif t_value < p_value:\n",
    "    print(\"acepting the null hypothesis\")"
   ]
  },
  {
   "cell_type": "code",
   "execution_count": null,
   "id": "9071aa4f",
   "metadata": {},
   "outputs": [],
   "source": []
  }
 ],
 "metadata": {
  "kernelspec": {
   "display_name": "Python 3",
   "language": "python",
   "name": "python3"
  },
  "language_info": {
   "codemirror_mode": {
    "name": "ipython",
    "version": 3
   },
   "file_extension": ".py",
   "mimetype": "text/x-python",
   "name": "python",
   "nbconvert_exporter": "python",
   "pygments_lexer": "ipython3",
   "version": "3.8.8"
  }
 },
 "nbformat": 4,
 "nbformat_minor": 5
}
