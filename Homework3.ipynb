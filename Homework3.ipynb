{
 "cells": [
  {
   "cell_type": "markdown",
   "id": "df0b0388",
   "metadata": {},
   "source": [
    "##### 1.Даны значения зарплат из выборки выпускников: 100, 80, 75, 77, 89, 33, 45, 25, 65, 17, 30, 24, 57, 55, 70, 75, 65, 84, 90, 150. Посчитать (желательно без использования статистических методов наподобие std, var, mean) среднее арифметическое, среднее квадратичное отклонение, смещенную и несмещенную оценки дисперсий для данной выборки."
   ]
  },
  {
   "cell_type": "code",
   "execution_count": 21,
   "id": "4cc41f2e",
   "metadata": {},
   "outputs": [],
   "source": [
    "my_data = [ 100, 80, 75, 77, 89, 33, 45, 25, 65, 17, 30, 24, 57, 55, 70, 75, 65, 84, 90, 150]\n"
   ]
  },
  {
   "cell_type": "markdown",
   "id": "4f287c5e",
   "metadata": {},
   "source": [
    "#### среднее арифметическое"
   ]
  },
  {
   "cell_type": "code",
   "execution_count": 5,
   "id": "d18a0c8b",
   "metadata": {},
   "outputs": [
    {
     "data": {
      "text/plain": [
       "1306"
      ]
     },
     "execution_count": 5,
     "metadata": {},
     "output_type": "execute_result"
    }
   ],
   "source": [
    "Sum = sum(my_data)\n",
    "Sum"
   ]
  },
  {
   "cell_type": "code",
   "execution_count": 16,
   "id": "9157aac8",
   "metadata": {},
   "outputs": [
    {
     "data": {
      "text/plain": [
       "65.3"
      ]
     },
     "execution_count": 16,
     "metadata": {},
     "output_type": "execute_result"
    }
   ],
   "source": [
    "Mean = Sum/len(my_data)\n",
    "Mean"
   ]
  },
  {
   "cell_type": "code",
   "execution_count": 10,
   "id": "36e0e99f",
   "metadata": {},
   "outputs": [
    {
     "data": {
      "text/plain": [
       "65.3"
      ]
     },
     "execution_count": 10,
     "metadata": {},
     "output_type": "execute_result"
    }
   ],
   "source": [
    "from statistics import mean\n",
    "  \n",
    "def Average(lst):\n",
    "    return mean(lst)\n",
    "  \n",
    "# Driver Code\n",
    "average = Average(my_data)\n",
    "average"
   ]
  },
  {
   "cell_type": "markdown",
   "id": "b180ca71",
   "metadata": {},
   "source": [
    "#### среднее квадратичное отклонение"
   ]
  },
  {
   "cell_type": "code",
   "execution_count": 25,
   "id": "b5b3ce54",
   "metadata": {},
   "outputs": [
    {
     "name": "stdout",
     "output_type": "stream",
     "text": [
      "30.823854398825596\n"
     ]
    }
   ],
   "source": [
    "import math \n",
    "  \n",
    "S= 0 \n",
    "for i in my_data:\n",
    "    S += (i - Mean)**2\n",
    "print(math.sqrt(S/len(my_data)))"
   ]
  },
  {
   "cell_type": "code",
   "execution_count": 22,
   "id": "3d303c05",
   "metadata": {},
   "outputs": [
    {
     "data": {
      "text/plain": [
       "30.823854398825596"
      ]
     },
     "execution_count": 22,
     "metadata": {},
     "output_type": "execute_result"
    }
   ],
   "source": [
    "import statistics\n",
    "  \n",
    "# Standard deviation of list\n",
    "# Using pstdev()\n",
    "res = statistics.pstdev(my_data)\n",
    "res"
   ]
  },
  {
   "cell_type": "markdown",
   "id": "6b211c88",
   "metadata": {},
   "source": [
    "#### смещенную и несмещенную оценки дисперсий "
   ]
  },
  {
   "cell_type": "code",
   "execution_count": 27,
   "id": "dc7d0ffa",
   "metadata": {},
   "outputs": [
    {
     "name": "stdout",
     "output_type": "stream",
     "text": [
      "950.11\n"
     ]
    }
   ],
   "source": [
    "import math \n",
    "  \n",
    "S= 0 \n",
    "for i in my_data:\n",
    "    S += (i - Mean)**2\n",
    "print(S/len(my_data))"
   ]
  },
  {
   "cell_type": "code",
   "execution_count": 28,
   "id": "a79890ac",
   "metadata": {},
   "outputs": [
    {
     "data": {
      "text/plain": [
       "950.11"
      ]
     },
     "execution_count": 28,
     "metadata": {},
     "output_type": "execute_result"
    }
   ],
   "source": [
    "import statistics\n",
    "\n",
    "statistics.pvariance(my_data)"
   ]
  },
  {
   "cell_type": "code",
   "execution_count": 30,
   "id": "29640789",
   "metadata": {},
   "outputs": [
    {
     "name": "stdout",
     "output_type": "stream",
     "text": [
      "1000.1157894736842\n"
     ]
    }
   ],
   "source": [
    "import math \n",
    "  \n",
    "S= 0 \n",
    "for i in my_data:\n",
    "    S += (i - Mean)**2\n",
    "print(S/(len(my_data)-1))"
   ]
  },
  {
   "cell_type": "code",
   "execution_count": 31,
   "id": "494c8fc0",
   "metadata": {},
   "outputs": [
    {
     "data": {
      "text/plain": [
       "1000.1157894736842"
      ]
     },
     "execution_count": 31,
     "metadata": {},
     "output_type": "execute_result"
    }
   ],
   "source": [
    "statistics.variance(my_data)"
   ]
  },
  {
   "cell_type": "markdown",
   "id": "24c75a59",
   "metadata": {},
   "source": [
    "#### 2.В первом ящике находится 8 мячей, из которых 5 - белые. Во втором ящике - 12 мячей, из которых 5 белых. Из первого ящика вытаскивают случайным образом два мяча, из второго - 4. Какова вероятность того, что 3 мяча белые?"
   ]
  },
  {
   "cell_type": "code",
   "execution_count": 32,
   "id": "8d76b255",
   "metadata": {},
   "outputs": [],
   "source": [
    "from math import factorial\n",
    "import numpy as np"
   ]
  },
  {
   "cell_type": "code",
   "execution_count": 33,
   "id": "4a882f36",
   "metadata": {},
   "outputs": [],
   "source": [
    "def combinations(n, k):\n",
    "    return int(factorial(n) / (factorial(k) * factorial(n - k)))"
   ]
  },
  {
   "cell_type": "code",
   "execution_count": 36,
   "id": "3397f1d0",
   "metadata": {},
   "outputs": [
    {
     "data": {
      "text/plain": [
       "0.10714285714285714"
      ]
     },
     "execution_count": 36,
     "metadata": {},
     "output_type": "execute_result"
    }
   ],
   "source": [
    "# вероятноcть 0 белых в первом ящике\n",
    "p10 = combinations(3,2)/combinations(8, 2)\n",
    "p10"
   ]
  },
  {
   "cell_type": "code",
   "execution_count": 78,
   "id": "c848184f",
   "metadata": {},
   "outputs": [
    {
     "data": {
      "text/plain": [
       "0.1414141414141414"
      ]
     },
     "execution_count": 78,
     "metadata": {},
     "output_type": "execute_result"
    }
   ],
   "source": [
    "# вероятность трех белых во втором ящике\n",
    "p23 = combinations(5,3)*combinations(7,1)/combinations(12, 4)\n",
    "p23"
   ]
  },
  {
   "cell_type": "code",
   "execution_count": 79,
   "id": "b0fb0159",
   "metadata": {},
   "outputs": [
    {
     "data": {
      "text/plain": [
       "0.01515151515151515"
      ]
     },
     "execution_count": 79,
     "metadata": {},
     "output_type": "execute_result"
    }
   ],
   "source": [
    "p1 = p10*p23\n",
    "p1"
   ]
  },
  {
   "cell_type": "code",
   "execution_count": 80,
   "id": "e48f6b91",
   "metadata": {},
   "outputs": [
    {
     "data": {
      "text/plain": [
       "0.5357142857142857"
      ]
     },
     "execution_count": 80,
     "metadata": {},
     "output_type": "execute_result"
    }
   ],
   "source": [
    "# вероятноcть 1 белых в первом ящике\n",
    "p11 = (combinations(5,1)*combinations(3,1))/combinations(8, 2)\n",
    "p11"
   ]
  },
  {
   "cell_type": "code",
   "execution_count": 81,
   "id": "93e5a3a0",
   "metadata": {},
   "outputs": [
    {
     "data": {
      "text/plain": [
       "0.42424242424242425"
      ]
     },
     "execution_count": 81,
     "metadata": {},
     "output_type": "execute_result"
    }
   ],
   "source": [
    "# вероятноcть 2 белых во втором ящике\n",
    "p22 = (combinations(5,2)*combinations(7,2))/combinations(12, 4)\n",
    "p22"
   ]
  },
  {
   "cell_type": "code",
   "execution_count": 82,
   "id": "608d59ce",
   "metadata": {},
   "outputs": [
    {
     "data": {
      "text/plain": [
       "0.22727272727272727"
      ]
     },
     "execution_count": 82,
     "metadata": {},
     "output_type": "execute_result"
    }
   ],
   "source": [
    "p2 = p11*p22\n",
    "p2"
   ]
  },
  {
   "cell_type": "code",
   "execution_count": 83,
   "id": "744297fe",
   "metadata": {},
   "outputs": [
    {
     "data": {
      "text/plain": [
       "0.35714285714285715"
      ]
     },
     "execution_count": 83,
     "metadata": {},
     "output_type": "execute_result"
    }
   ],
   "source": [
    "# вероятноcть 2 белых в первом ящике\n",
    "p12 = combinations(5,2)/combinations(8, 2)\n",
    "p12"
   ]
  },
  {
   "cell_type": "code",
   "execution_count": 84,
   "id": "fd60bf92",
   "metadata": {},
   "outputs": [
    {
     "data": {
      "text/plain": [
       "0.35353535353535354"
      ]
     },
     "execution_count": 84,
     "metadata": {},
     "output_type": "execute_result"
    }
   ],
   "source": [
    "# вероятноcть 1 белого во втором ящике\n",
    "p21 = (combinations(5,1)*combinations(7,3))/combinations(12, 4)\n",
    "p21"
   ]
  },
  {
   "cell_type": "code",
   "execution_count": 85,
   "id": "4a10e6ec",
   "metadata": {},
   "outputs": [
    {
     "data": {
      "text/plain": [
       "0.12626262626262627"
      ]
     },
     "execution_count": 85,
     "metadata": {},
     "output_type": "execute_result"
    }
   ],
   "source": [
    "p3 = p12*p21\n",
    "p3"
   ]
  },
  {
   "cell_type": "code",
   "execution_count": 86,
   "id": "a1547f14",
   "metadata": {},
   "outputs": [
    {
     "name": "stdout",
     "output_type": "stream",
     "text": [
      "общая вероятность для 3х белых: 0.3686868686868687\n"
     ]
    }
   ],
   "source": [
    "p = p1+p2+p3\n",
    "print(f'общая вероятность для 3х белых: {p}')"
   ]
  },
  {
   "cell_type": "markdown",
   "id": "3386c740",
   "metadata": {},
   "source": [
    "#### 3.На соревновании по биатлону один из трех спортсменов стреляет и попадает в мишень. Вероятность попадания для первого спортсмена равна 0.9, для второго — 0.8, для третьего — 0.6. Найти вероятность того, что выстрел произведен: a). первым спортсменом б). вторым спортсменом в). третьим спортсменом."
   ]
  },
  {
   "cell_type": "code",
   "execution_count": 56,
   "id": "a3898c92",
   "metadata": {},
   "outputs": [
    {
     "data": {
      "text/plain": [
       "0.7666666666666666"
      ]
     },
     "execution_count": 56,
     "metadata": {},
     "output_type": "execute_result"
    }
   ],
   "source": [
    "p = 1/3*0.9+1/3*0.8+1/3*0.6\n",
    "p"
   ]
  },
  {
   "cell_type": "code",
   "execution_count": 58,
   "id": "f0575f2d",
   "metadata": {},
   "outputs": [
    {
     "data": {
      "text/plain": [
       "0.391304347826087"
      ]
     },
     "execution_count": 58,
     "metadata": {},
     "output_type": "execute_result"
    }
   ],
   "source": [
    "p1 = (1/3*0.9)/p\n",
    "p1"
   ]
  },
  {
   "cell_type": "code",
   "execution_count": 59,
   "id": "f173a903",
   "metadata": {},
   "outputs": [
    {
     "data": {
      "text/plain": [
       "0.3478260869565218"
      ]
     },
     "execution_count": 59,
     "metadata": {},
     "output_type": "execute_result"
    }
   ],
   "source": [
    "p2 = (1/3*0.8)/p\n",
    "p2"
   ]
  },
  {
   "cell_type": "code",
   "execution_count": 60,
   "id": "2db59b7f",
   "metadata": {},
   "outputs": [
    {
     "data": {
      "text/plain": [
       "0.2608695652173913"
      ]
     },
     "execution_count": 60,
     "metadata": {},
     "output_type": "execute_result"
    }
   ],
   "source": [
    "p3 = (1/3*0.6)/p\n",
    "p3"
   ]
  },
  {
   "cell_type": "markdown",
   "id": "2f2a3a8b",
   "metadata": {},
   "source": [
    "#### 4.В университет на факультеты A и B поступило равное количество студентов, а на факультет C студентов поступило столько же, сколько на A и B вместе. Вероятность того, что студент факультета A сдаст первую сессию, равна 0.8. Для студента факультета B эта вероятность равна 0.7, а для студента факультета C - 0.9. Студент сдал первую сессию. Какова вероятность, что он учится: a). на факультете A б). на факультете B в). на факультете C?"
   ]
  },
  {
   "cell_type": "code",
   "execution_count": 61,
   "id": "1fcdf128",
   "metadata": {},
   "outputs": [
    {
     "data": {
      "text/plain": [
       "0.825"
      ]
     },
     "execution_count": 61,
     "metadata": {},
     "output_type": "execute_result"
    }
   ],
   "source": [
    "p = 1/4*0.8+1/4*0.7+1/2*0.9\n",
    "p"
   ]
  },
  {
   "cell_type": "code",
   "execution_count": 62,
   "id": "dcb829e9",
   "metadata": {},
   "outputs": [
    {
     "data": {
      "text/plain": [
       "0.24242424242424246"
      ]
     },
     "execution_count": 62,
     "metadata": {},
     "output_type": "execute_result"
    }
   ],
   "source": [
    "p1 = (1/4*0.8)/p\n",
    "p1"
   ]
  },
  {
   "cell_type": "code",
   "execution_count": 63,
   "id": "099cbac5",
   "metadata": {},
   "outputs": [
    {
     "data": {
      "text/plain": [
       "0.21212121212121213"
      ]
     },
     "execution_count": 63,
     "metadata": {},
     "output_type": "execute_result"
    }
   ],
   "source": [
    "p2 = (1/4*0.7)/p\n",
    "p2"
   ]
  },
  {
   "cell_type": "code",
   "execution_count": 64,
   "id": "b320c474",
   "metadata": {},
   "outputs": [
    {
     "data": {
      "text/plain": [
       "0.5454545454545455"
      ]
     },
     "execution_count": 64,
     "metadata": {},
     "output_type": "execute_result"
    }
   ],
   "source": [
    "p3 = (1/2*0.9)/p\n",
    "p3"
   ]
  },
  {
   "cell_type": "markdown",
   "id": "59f2560d",
   "metadata": {},
   "source": [
    "#### 5.Устройство состоит из трех деталей. Для первой детали вероятность выйти из строя в первый месяц равна 0.1, для второй - 0.2, для третьей - 0.25. Какова вероятность того, что в первый месяц выйдут из строя: а). все детали б). только две детали в). хотя бы одна деталь г). от одной до двух деталей?"
   ]
  },
  {
   "cell_type": "code",
   "execution_count": 94,
   "id": "b5a7de19",
   "metadata": {},
   "outputs": [
    {
     "data": {
      "text/plain": [
       "0.005000000000000001"
      ]
     },
     "execution_count": 94,
     "metadata": {},
     "output_type": "execute_result"
    }
   ],
   "source": [
    "# а). все детали \n",
    "p = 0.1*0.2*0.25\n",
    "p"
   ]
  },
  {
   "cell_type": "code",
   "execution_count": 95,
   "id": "09942e9f",
   "metadata": {},
   "outputs": [
    {
     "data": {
      "text/plain": [
       "0.08"
      ]
     },
     "execution_count": 95,
     "metadata": {},
     "output_type": "execute_result"
    }
   ],
   "source": [
    "# б)только две детали \n",
    "p2 = 0.9*0.2*0.25+0.8*0.1*0.25+0.75*0.1*0.2\n",
    "p2"
   ]
  },
  {
   "cell_type": "code",
   "execution_count": 93,
   "id": "8ac55651",
   "metadata": {},
   "outputs": [
    {
     "data": {
      "text/plain": [
       "0.45999999999999996"
      ]
     },
     "execution_count": 93,
     "metadata": {},
     "output_type": "execute_result"
    }
   ],
   "source": [
    "# в) хотя бы одна деталь (отнимаем вероятность того, что ничего не сломается от 1)\n",
    "p3 = 1-0.9*0.8*0.75\n",
    "p3"
   ]
  },
  {
   "cell_type": "code",
   "execution_count": 97,
   "id": "a9fd6d8a",
   "metadata": {},
   "outputs": [
    {
     "data": {
      "text/plain": [
       "0.45499999999999996"
      ]
     },
     "execution_count": 97,
     "metadata": {},
     "output_type": "execute_result"
    }
   ],
   "source": [
    "#г). от одной до двух деталей? ( не берем в расчет случай, когда все ломается и  когда ничего не ломается)\n",
    "p4 = 1-0.9*0.8*0.75-p\n",
    "p4"
   ]
  },
  {
   "cell_type": "code",
   "execution_count": null,
   "id": "0fd3fd33",
   "metadata": {},
   "outputs": [],
   "source": []
  }
 ],
 "metadata": {
  "kernelspec": {
   "display_name": "Python 3",
   "language": "python",
   "name": "python3"
  },
  "language_info": {
   "codemirror_mode": {
    "name": "ipython",
    "version": 3
   },
   "file_extension": ".py",
   "mimetype": "text/x-python",
   "name": "python",
   "nbconvert_exporter": "python",
   "pygments_lexer": "ipython3",
   "version": "3.8.8"
  }
 },
 "nbformat": 4,
 "nbformat_minor": 5
}
